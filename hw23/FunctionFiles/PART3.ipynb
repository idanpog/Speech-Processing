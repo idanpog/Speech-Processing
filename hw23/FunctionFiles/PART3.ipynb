{
 "cells": [
  {
   "cell_type": "markdown",
   "metadata": {},
   "source": [
    "***************************************************"
   ]
  },
  {
   "cell_type": "markdown",
   "metadata": {},
   "source": [
    "**Definitions and Imports:**"
   ]
  },
  {
   "cell_type": "code",
   "execution_count": null,
   "metadata": {},
   "outputs": [],
   "source": [
    "####################################\n",
    "## DO NOT EDIT THIS CODE SECTION\n",
    "import numpy as np\n",
    "from matplotlib import pyplot as plt\n",
    "from scipy.io.wavfile import read, write\n",
    "from scipy.signal import lfilter\n",
    "from IPython.display import Audio\n",
    "from IPython.display import display\n",
    "from math import pi\n",
    "%matplotlib widget\n",
    "####################################"
   ]
  },
  {
   "cell_type": "markdown",
   "metadata": {},
   "source": [
    "**Useful functions:**"
   ]
  },
  {
   "cell_type": "code",
   "execution_count": null,
   "metadata": {},
   "outputs": [],
   "source": [
    "####################################\n",
    "## DO NOT EDIT THIS CODE SECTION\n",
    "def read_wav_file(filename: str) -> (int, np.ndarray):\n",
    "    Fs, signal = read(filename)\n",
    "    signal = signal.astype(dtype=np.float32)\n",
    "    signal = signal/(2**15)\n",
    "    return Fs, signal\n",
    "\n",
    "def plot_spectrogram(signal: np.ndarray, winlen: int, ovp: float, sampling_freq: int):\n",
    "    fig = plt.figure()\n",
    "    \n",
    "    ax1 = plt.subplot2grid(shape=(3,1), loc=(0,0))\n",
    "    x = np.arange(0, signal.size)/sampling_freq\n",
    "    y_range = np.max(signal)-np.min(signal)\n",
    "    ax1.plot(x,signal)\n",
    "    plt.axis([x[0], x[x.size-1], np.min(signal)-0.1*y_range, np.max(signal)+0.1*y_range])\n",
    "    plt.title('Time domain signal')\n",
    "    plt.xlabel('Time [Sec]')\n",
    "    plt.ylabel('Amplitude [Volt]')\n",
    "    \n",
    "    ax2 = plt.subplot2grid(shape=(3,1), loc=(1,0), rowspan=2)\n",
    "    spectrum, freqs, times, im = ax2.specgram(signal, NFFT=winlen, Fs=sampling_freq, window=np.hamming(winlen), noverlap=int(np.floor(ovp*winlen)), scale='dB', cmap='hot', vmin=-100)\n",
    "    plt.xlabel('Time [Sec]')\n",
    "    plt.ylabel('Frequency [Hz]')\n",
    "    plt.title(f'Spectrogram (FFT length {winlen}, overlap {round(100*ovp,2)}%)');\n",
    "    \n",
    "    plt.tight_layout()\n",
    "    plt.show()\n",
    "    print(f'The size of the spectrogram is {freqs.size}X{times.size}')\n",
    "    \n",
    "def basic_plot(x, y, xlabel='', ylabel='', title='', grid=True):\n",
    "    fig = plt.figure()\n",
    "    line, = plt.plot(x, y)\n",
    "    y_range = np.max(y)-np.min(y)\n",
    "    plt.axis([x[0], x[x.size-1], np.min(y)-0.1*y_range, np.max(y)+0.1*y_range])\n",
    "    plt.xlabel(xlabel)\n",
    "    plt.ylabel(ylabel)\n",
    "    if(grid):\n",
    "        plt.grid()\n",
    "    plt.title(title)\n",
    "    plt.locator_params(axis='x',tight='true')\n",
    "####################################"
   ]
  },
  {
   "cell_type": "markdown",
   "metadata": {},
   "source": [
    "************************************************************"
   ]
  },
  {
   "cell_type": "markdown",
   "metadata": {},
   "source": [
    "## Question 1 - A"
   ]
  },
  {
   "cell_type": "code",
   "execution_count": null,
   "metadata": {},
   "outputs": [],
   "source": [
    "id_digit = ... # insert your ID digit\n",
    "\n",
    "speechfilename =  'speech'+str(id_digit)+'.wav'\n",
    "Fs, signal = read_wav_file(speechfilename)\n",
    "\n",
    "plot_spectrogram(...)"
   ]
  },
  {
   "cell_type": "markdown",
   "metadata": {},
   "source": [
    "## Question 1 - D"
   ]
  },
  {
   "cell_type": "code",
   "execution_count": null,
   "metadata": {},
   "outputs": [],
   "source": []
  },
  {
   "cell_type": "markdown",
   "metadata": {},
   "source": [
    "## Question 1 - E"
   ]
  },
  {
   "cell_type": "code",
   "execution_count": null,
   "metadata": {},
   "outputs": [],
   "source": []
  },
  {
   "cell_type": "markdown",
   "metadata": {},
   "source": [
    "************************************************************"
   ]
  },
  {
   "cell_type": "markdown",
   "metadata": {},
   "source": [
    "## Question 3"
   ]
  },
  {
   "cell_type": "code",
   "execution_count": null,
   "metadata": {},
   "outputs": [],
   "source": [
    "def residual_energy(signal: np.ndarray, FIR_coeffs: np.ndarray) -> float:\n",
    "    #<Complete The Code>"
   ]
  },
  {
   "cell_type": "markdown",
   "metadata": {},
   "source": [
    "************************************************************"
   ]
  },
  {
   "cell_type": "markdown",
   "metadata": {},
   "source": [
    "## Question 13C"
   ]
  },
  {
   "cell_type": "markdown",
   "metadata": {},
   "source": [
    "Complete the missing code in the function"
   ]
  },
  {
   "cell_type": "code",
   "execution_count": null,
   "metadata": {},
   "outputs": [],
   "source": [
    "def generate_impulse_train_frame(frame_len: int, pitch_period: int, reminder_from_last_frame: int) -> (np.ndarray, int):\n",
    "    first_sample_index_current_frame = ...\n",
    "    frame = np.zeros(frame_len)\n",
    "    for i in np.arange(first_sample_index_current_frame,frame_len,pitch_period):\n",
    "        frame[i] = 1\n",
    "    reminder = ...\n",
    "    return frame, reminder"
   ]
  },
  {
   "cell_type": "markdown",
   "metadata": {
    "tags": []
   },
   "source": [
    "## Question 13D"
   ]
  },
  {
   "cell_type": "markdown",
   "metadata": {},
   "source": [
    "Use the function above to create an impulse train from consecutive segments, and present it in a graph."
   ]
  },
  {
   "cell_type": "code",
   "execution_count": null,
   "metadata": {},
   "outputs": [],
   "source": [
    "N = ... #segment length\n",
    "P = ... #period length\n",
    "seg1, rem1 = generate_impulse_train_frame(N, P, 0)\n",
    "seg2, rem2 = generate_impulse_train_frame(N, P, rem1)\n",
    "seg3, rem3 = generate_impulse_train_frame(N, P, rem2)\n",
    "seg4, rem4 = generate_impulse_train_frame(N, P, rem3)\n",
    "segments = np.concatenate([seg1, seg2, seg3, seg4])\n",
    "\n",
    "fig = plt.figure()\n",
    "plt.stem(np.arange(0,4*N),segments)\n",
    "plt.xlabel('Samples')\n",
    "plt.ylabel('Amplitude')\n",
    "plt.title('Concatenated segments')"
   ]
  }
 ],
 "metadata": {
  "kernelspec": {
   "display_name": "Python 3 (ipykernel)",
   "language": "python",
   "name": "python3"
  },
  "language_info": {
   "codemirror_mode": {
    "name": "ipython",
    "version": 3
   },
   "file_extension": ".py",
   "mimetype": "text/x-python",
   "name": "python",
   "nbconvert_exporter": "python",
   "pygments_lexer": "ipython3",
   "version": "3.8.16"
  },
  "vscode": {
   "interpreter": {
    "hash": "99f5f5da5e50376999c86646ae614d55375ac95cb655839ebbb2eb852a00cc73"
   }
  }
 },
 "nbformat": 4,
 "nbformat_minor": 4
}
